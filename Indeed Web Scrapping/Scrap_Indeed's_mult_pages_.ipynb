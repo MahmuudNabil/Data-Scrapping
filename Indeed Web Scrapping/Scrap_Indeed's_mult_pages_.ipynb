{
  "nbformat": 4,
  "nbformat_minor": 0,
  "metadata": {
    "colab": {
      "name": "Scrap Indeed's mult_pages .ipynb",
      "provenance": [],
      "authorship_tag": "ABX9TyNSLPCdSw3u+jA2ngcYDWvk",
      "include_colab_link": true
    },
    "kernelspec": {
      "name": "python3",
      "display_name": "Python 3"
    },
    "language_info": {
      "name": "python"
    }
  },
  "cells": [
    {
      "cell_type": "markdown",
      "metadata": {
        "id": "view-in-github",
        "colab_type": "text"
      },
      "source": [
        "<a href=\"https://colab.research.google.com/github/mahmoud2571587/Data-Scrapping/blob/main/Indeed%20Web%20Scrapping/Scrap_Indeed's_mult_pages_.ipynb\" target=\"_parent\"><img src=\"https://colab.research.google.com/assets/colab-badge.svg\" alt=\"Open In Colab\"/></a>"
      ]
    },
    {
      "cell_type": "code",
      "execution_count": 197,
      "metadata": {
        "id": "j_5AFVAkjije"
      },
      "outputs": [],
      "source": [
        "# import libraries\n",
        "\n",
        "import requests\n",
        "from bs4 import BeautifulSoup\n",
        "import pandas as pd\n"
      ]
    },
    {
      "cell_type": "markdown",
      "source": [
        "extract function get pages to extract data from it "
      ],
      "metadata": {
        "id": "69ZKGxBhkTX_"
      }
    },
    {
      "cell_type": "code",
      "source": [
        "def extract(page):\n",
        "  headers = {'user-agent' : 'Mozilla/5.0 (Windows NT 10.0; Win64; x64) AppleWebKit/537.36 (KHTML, like Gecko) Chrome/103.0.0.0 Safari/537.36'}\n",
        "  url = f'https://uk.indeed.com/jobs?q=Python%20Developer&l=London&start={page}&vjk=5bdac14b7ce64d90'\n",
        "  page = requests.get(url , headers)\n",
        "  soup = BeautifulSoup(page.content , 'html.parser')\n",
        "  return soup"
      ],
      "metadata": {
        "id": "jm7gzvu16Pro"
      },
      "execution_count": 198,
      "outputs": []
    },
    {
      "cell_type": "code",
      "source": [
        "job_list = []"
      ],
      "metadata": {
        "id": "Lppbuke1hEjl"
      },
      "execution_count": 199,
      "outputs": []
    },
    {
      "cell_type": "markdown",
      "source": [
        "this function get specific data and store it in list"
      ],
      "metadata": {
        "id": "NnbD-DQXkKbg"
      }
    },
    {
      "cell_type": "code",
      "source": [
        "def transform(soup):\n",
        "  divs = soup.find_all('div' , {'class' : 'job_seen_beacon'})\n",
        "  for item in divs:\n",
        "    title = item.find('a').text.strip()\n",
        "    company_name = item.find('span' , {'class' : 'companyName'}).text.strip()\n",
        "    \n",
        "    company_location = item.find('div' , {'class' : 'companyLocation'}).text.strip()\n",
        "    post_date = item.find('span' ,{'class' : 'date'}).text.strip()\n",
        "    try :\n",
        "      rating = item.find('span', {'class' : 'ratingsDisplay'}).text.strip()\n",
        "      salary = item.find('div' , {'class' : 'attribute_snippet'}).text.strip()\n",
        "    except :\n",
        "      rating =''\n",
        "      salary = ''\n",
        "    summary = item.find('div' ,{'class' : 'job-snippet'}).text.strip().replace('\\n' ,'')\n",
        "    job ={'title' : title ,\n",
        "          'company_name' : company_name ,\n",
        "          'company_location' : company_location,\n",
        "          'rating' : rating,\n",
        "          'salary' : salary,\n",
        "          'post_date' : post_date,\n",
        "          'summary' : summary}\n",
        "    job_list.append(job)\n",
        "    #print(rating[2:])\n",
        "    #print(title ,'||' , company_name , '||' , company_location ,'||' ,salary ,'||' , rating[2:] ,'||', post_date)\n",
        "  return\n"
      ],
      "metadata": {
        "id": "f7i1gyzq7m05"
      },
      "execution_count": 200,
      "outputs": []
    },
    {
      "cell_type": "code",
      "source": [
        "# get data from all pages \n",
        "\n",
        "for page_num in range(0,200,10):\n",
        "  print(f'page number:  {page_num}')\n",
        "  page = extract(page_num)\n",
        "  transform(page)"
      ],
      "metadata": {
        "colab": {
          "base_uri": "https://localhost:8080/"
        },
        "id": "KJN5V9Fm-vhw",
        "outputId": "05ce6af0-c3b4-4b78-cea0-41b6df8c7bc3"
      },
      "execution_count": 201,
      "outputs": [
        {
          "output_type": "stream",
          "name": "stdout",
          "text": [
            "page number:  0\n",
            "page number:  10\n",
            "page number:  20\n",
            "page number:  30\n",
            "page number:  40\n",
            "page number:  50\n",
            "page number:  60\n",
            "page number:  70\n",
            "page number:  80\n",
            "page number:  90\n",
            "page number:  100\n",
            "page number:  110\n",
            "page number:  120\n",
            "page number:  130\n",
            "page number:  140\n",
            "page number:  150\n",
            "page number:  160\n",
            "page number:  170\n",
            "page number:  180\n",
            "page number:  190\n"
          ]
        }
      ]
    },
    {
      "cell_type": "code",
      "source": [
        "# put data into dataFrame\n",
        "df = pd.DataFrame(job_list)\n",
        "df.head()"
      ],
      "metadata": {
        "colab": {
          "base_uri": "https://localhost:8080/",
          "height": 548
        },
        "id": "718pGM_Bj2OM",
        "outputId": "f89a37b8-eb6f-40dc-b541-1783364d6f6f"
      },
      "execution_count": 202,
      "outputs": [
        {
          "output_type": "execute_result",
          "data": {
            "text/plain": [
              "                           title               company_name company_location  \\\n",
              "0         Python & SQL Developer                  Capgemini           London   \n",
              "1               Python Developer            White Swan Data      London WC1X   \n",
              "2               Python Developer                       Citi           London   \n",
              "3   RaaS Senior Python Developer  JPMorgan Chase Bank, N.A.           London   \n",
              "4  Apprentice Software Developer                        ITP        London W2   \n",
              "\n",
              "  rating          salary           post_date  \\\n",
              "0    3.8       Full-time    Posted3 days ago   \n",
              "1                          Posted21 days ago   \n",
              "2    3.9       Full-time  Posted30+ days ago   \n",
              "3    3.8       Full-time    Posted9 days ago   \n",
              "4    5.0  £21,500 a year    Posted3 days ago   \n",
              "\n",
              "                                             summary  \n",
              "0  Financial Services experience with regulatory ...  \n",
              "1  These betting solutions entail the development...  \n",
              "2  Designing and implementing python-based backen...  \n",
              "3  As a senior developer in the Risk as a Service...  \n",
              "4  We have been awarded a 20-year contract by Tra...  "
            ],
            "text/html": [
              "\n",
              "  <div id=\"df-0b20605b-6934-4427-a872-54bfb97e2628\">\n",
              "    <div class=\"colab-df-container\">\n",
              "      <div>\n",
              "<style scoped>\n",
              "    .dataframe tbody tr th:only-of-type {\n",
              "        vertical-align: middle;\n",
              "    }\n",
              "\n",
              "    .dataframe tbody tr th {\n",
              "        vertical-align: top;\n",
              "    }\n",
              "\n",
              "    .dataframe thead th {\n",
              "        text-align: right;\n",
              "    }\n",
              "</style>\n",
              "<table border=\"1\" class=\"dataframe\">\n",
              "  <thead>\n",
              "    <tr style=\"text-align: right;\">\n",
              "      <th></th>\n",
              "      <th>title</th>\n",
              "      <th>company_name</th>\n",
              "      <th>company_location</th>\n",
              "      <th>rating</th>\n",
              "      <th>salary</th>\n",
              "      <th>post_date</th>\n",
              "      <th>summary</th>\n",
              "    </tr>\n",
              "  </thead>\n",
              "  <tbody>\n",
              "    <tr>\n",
              "      <th>0</th>\n",
              "      <td>Python &amp; SQL Developer</td>\n",
              "      <td>Capgemini</td>\n",
              "      <td>London</td>\n",
              "      <td>3.8</td>\n",
              "      <td>Full-time</td>\n",
              "      <td>Posted3 days ago</td>\n",
              "      <td>Financial Services experience with regulatory ...</td>\n",
              "    </tr>\n",
              "    <tr>\n",
              "      <th>1</th>\n",
              "      <td>Python Developer</td>\n",
              "      <td>White Swan Data</td>\n",
              "      <td>London WC1X</td>\n",
              "      <td></td>\n",
              "      <td></td>\n",
              "      <td>Posted21 days ago</td>\n",
              "      <td>These betting solutions entail the development...</td>\n",
              "    </tr>\n",
              "    <tr>\n",
              "      <th>2</th>\n",
              "      <td>Python Developer</td>\n",
              "      <td>Citi</td>\n",
              "      <td>London</td>\n",
              "      <td>3.9</td>\n",
              "      <td>Full-time</td>\n",
              "      <td>Posted30+ days ago</td>\n",
              "      <td>Designing and implementing python-based backen...</td>\n",
              "    </tr>\n",
              "    <tr>\n",
              "      <th>3</th>\n",
              "      <td>RaaS Senior Python Developer</td>\n",
              "      <td>JPMorgan Chase Bank, N.A.</td>\n",
              "      <td>London</td>\n",
              "      <td>3.8</td>\n",
              "      <td>Full-time</td>\n",
              "      <td>Posted9 days ago</td>\n",
              "      <td>As a senior developer in the Risk as a Service...</td>\n",
              "    </tr>\n",
              "    <tr>\n",
              "      <th>4</th>\n",
              "      <td>Apprentice Software Developer</td>\n",
              "      <td>ITP</td>\n",
              "      <td>London W2</td>\n",
              "      <td>5.0</td>\n",
              "      <td>£21,500 a year</td>\n",
              "      <td>Posted3 days ago</td>\n",
              "      <td>We have been awarded a 20-year contract by Tra...</td>\n",
              "    </tr>\n",
              "  </tbody>\n",
              "</table>\n",
              "</div>\n",
              "      <button class=\"colab-df-convert\" onclick=\"convertToInteractive('df-0b20605b-6934-4427-a872-54bfb97e2628')\"\n",
              "              title=\"Convert this dataframe to an interactive table.\"\n",
              "              style=\"display:none;\">\n",
              "        \n",
              "  <svg xmlns=\"http://www.w3.org/2000/svg\" height=\"24px\"viewBox=\"0 0 24 24\"\n",
              "       width=\"24px\">\n",
              "    <path d=\"M0 0h24v24H0V0z\" fill=\"none\"/>\n",
              "    <path d=\"M18.56 5.44l.94 2.06.94-2.06 2.06-.94-2.06-.94-.94-2.06-.94 2.06-2.06.94zm-11 1L8.5 8.5l.94-2.06 2.06-.94-2.06-.94L8.5 2.5l-.94 2.06-2.06.94zm10 10l.94 2.06.94-2.06 2.06-.94-2.06-.94-.94-2.06-.94 2.06-2.06.94z\"/><path d=\"M17.41 7.96l-1.37-1.37c-.4-.4-.92-.59-1.43-.59-.52 0-1.04.2-1.43.59L10.3 9.45l-7.72 7.72c-.78.78-.78 2.05 0 2.83L4 21.41c.39.39.9.59 1.41.59.51 0 1.02-.2 1.41-.59l7.78-7.78 2.81-2.81c.8-.78.8-2.07 0-2.86zM5.41 20L4 18.59l7.72-7.72 1.47 1.35L5.41 20z\"/>\n",
              "  </svg>\n",
              "      </button>\n",
              "      \n",
              "  <style>\n",
              "    .colab-df-container {\n",
              "      display:flex;\n",
              "      flex-wrap:wrap;\n",
              "      gap: 12px;\n",
              "    }\n",
              "\n",
              "    .colab-df-convert {\n",
              "      background-color: #E8F0FE;\n",
              "      border: none;\n",
              "      border-radius: 50%;\n",
              "      cursor: pointer;\n",
              "      display: none;\n",
              "      fill: #1967D2;\n",
              "      height: 32px;\n",
              "      padding: 0 0 0 0;\n",
              "      width: 32px;\n",
              "    }\n",
              "\n",
              "    .colab-df-convert:hover {\n",
              "      background-color: #E2EBFA;\n",
              "      box-shadow: 0px 1px 2px rgba(60, 64, 67, 0.3), 0px 1px 3px 1px rgba(60, 64, 67, 0.15);\n",
              "      fill: #174EA6;\n",
              "    }\n",
              "\n",
              "    [theme=dark] .colab-df-convert {\n",
              "      background-color: #3B4455;\n",
              "      fill: #D2E3FC;\n",
              "    }\n",
              "\n",
              "    [theme=dark] .colab-df-convert:hover {\n",
              "      background-color: #434B5C;\n",
              "      box-shadow: 0px 1px 3px 1px rgba(0, 0, 0, 0.15);\n",
              "      filter: drop-shadow(0px 1px 2px rgba(0, 0, 0, 0.3));\n",
              "      fill: #FFFFFF;\n",
              "    }\n",
              "  </style>\n",
              "\n",
              "      <script>\n",
              "        const buttonEl =\n",
              "          document.querySelector('#df-0b20605b-6934-4427-a872-54bfb97e2628 button.colab-df-convert');\n",
              "        buttonEl.style.display =\n",
              "          google.colab.kernel.accessAllowed ? 'block' : 'none';\n",
              "\n",
              "        async function convertToInteractive(key) {\n",
              "          const element = document.querySelector('#df-0b20605b-6934-4427-a872-54bfb97e2628');\n",
              "          const dataTable =\n",
              "            await google.colab.kernel.invokeFunction('convertToInteractive',\n",
              "                                                     [key], {});\n",
              "          if (!dataTable) return;\n",
              "\n",
              "          const docLinkHtml = 'Like what you see? Visit the ' +\n",
              "            '<a target=\"_blank\" href=https://colab.research.google.com/notebooks/data_table.ipynb>data table notebook</a>'\n",
              "            + ' to learn more about interactive tables.';\n",
              "          element.innerHTML = '';\n",
              "          dataTable['output_type'] = 'display_data';\n",
              "          await google.colab.output.renderOutput(dataTable, element);\n",
              "          const docLink = document.createElement('div');\n",
              "          docLink.innerHTML = docLinkHtml;\n",
              "          element.appendChild(docLink);\n",
              "        }\n",
              "      </script>\n",
              "    </div>\n",
              "  </div>\n",
              "  "
            ]
          },
          "metadata": {},
          "execution_count": 202
        }
      ]
    },
    {
      "cell_type": "code",
      "source": [
        "# Save data into .csv file\n",
        "df.to_csv('python_jobs.csv')"
      ],
      "metadata": {
        "id": "P7hSkpDNj6dY"
      },
      "execution_count": 203,
      "outputs": []
    }
  ]
}